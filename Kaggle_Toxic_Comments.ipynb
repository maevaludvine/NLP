{
 "cells": [
  {
   "cell_type": "markdown",
   "metadata": {},
   "source": [
    "\n",
    "\n",
    "\n",
    "# Kaggle Challenge\n",
    "\n",
    "\n",
    "* Files Description: \n",
    "    * train.csv - the training set, contains comments with their binary labels\n",
    "\n",
    "* Data Description:\n",
    "We have a large number of Wikipedia comments which have been labeled by human raters for toxic behavior. The types of toxicity are:\n",
    "\n",
    "    * toxic\n",
    "    * severe_toxic\n",
    "    * obscene\n",
    "    * threat\n",
    "    * insult\n",
    "    * identity_hate\n",
    "\n",
    "\n",
    "* Objective : Create a model which predicts a probability of each type of toxicity for each comment.\n",
    "-----"
   ]
  },
  {
   "cell_type": "code",
   "execution_count": 1,
   "metadata": {},
   "outputs": [],
   "source": [
    "# Import Modules\n",
    "import pandas as pd\n",
    "import os"
   ]
  },
  {
   "cell_type": "code",
   "execution_count": 2,
   "metadata": {},
   "outputs": [],
   "source": [
    "train=pd.read_csv('/Users/maevapena-pitra/Documents/Machine_Learning /Kaggle_Toxic/train.csv',sep=',')"
   ]
  },
  {
   "cell_type": "code",
   "execution_count": 42,
   "metadata": {},
   "outputs": [
    {
     "data": {
      "text/html": [
       "<div>\n",
       "<style scoped>\n",
       "    .dataframe tbody tr th:only-of-type {\n",
       "        vertical-align: middle;\n",
       "    }\n",
       "\n",
       "    .dataframe tbody tr th {\n",
       "        vertical-align: top;\n",
       "    }\n",
       "\n",
       "    .dataframe thead th {\n",
       "        text-align: right;\n",
       "    }\n",
       "</style>\n",
       "<table border=\"1\" class=\"dataframe\">\n",
       "  <thead>\n",
       "    <tr style=\"text-align: right;\">\n",
       "      <th></th>\n",
       "      <th>id</th>\n",
       "      <th>comment_text</th>\n",
       "      <th>toxic</th>\n",
       "      <th>severe_toxic</th>\n",
       "      <th>obscene</th>\n",
       "      <th>threat</th>\n",
       "      <th>insult</th>\n",
       "      <th>identity_hate</th>\n",
       "    </tr>\n",
       "  </thead>\n",
       "  <tbody>\n",
       "    <tr>\n",
       "      <th>0</th>\n",
       "      <td>0000997932d777bf</td>\n",
       "      <td>Explanation\\nWhy the edits made under my usern...</td>\n",
       "      <td>0</td>\n",
       "      <td>0</td>\n",
       "      <td>0</td>\n",
       "      <td>0</td>\n",
       "      <td>0</td>\n",
       "      <td>0</td>\n",
       "    </tr>\n",
       "    <tr>\n",
       "      <th>1</th>\n",
       "      <td>000103f0d9cfb60f</td>\n",
       "      <td>D'aww! He matches this background colour I'm s...</td>\n",
       "      <td>0</td>\n",
       "      <td>0</td>\n",
       "      <td>0</td>\n",
       "      <td>0</td>\n",
       "      <td>0</td>\n",
       "      <td>0</td>\n",
       "    </tr>\n",
       "    <tr>\n",
       "      <th>2</th>\n",
       "      <td>000113f07ec002fd</td>\n",
       "      <td>Hey man, I'm really not trying to edit war. It...</td>\n",
       "      <td>0</td>\n",
       "      <td>0</td>\n",
       "      <td>0</td>\n",
       "      <td>0</td>\n",
       "      <td>0</td>\n",
       "      <td>0</td>\n",
       "    </tr>\n",
       "    <tr>\n",
       "      <th>3</th>\n",
       "      <td>0001b41b1c6bb37e</td>\n",
       "      <td>\"\\nMore\\nI can't make any real suggestions on ...</td>\n",
       "      <td>0</td>\n",
       "      <td>0</td>\n",
       "      <td>0</td>\n",
       "      <td>0</td>\n",
       "      <td>0</td>\n",
       "      <td>0</td>\n",
       "    </tr>\n",
       "    <tr>\n",
       "      <th>4</th>\n",
       "      <td>0001d958c54c6e35</td>\n",
       "      <td>You, sir, are my hero. Any chance you remember...</td>\n",
       "      <td>0</td>\n",
       "      <td>0</td>\n",
       "      <td>0</td>\n",
       "      <td>0</td>\n",
       "      <td>0</td>\n",
       "      <td>0</td>\n",
       "    </tr>\n",
       "  </tbody>\n",
       "</table>\n",
       "</div>"
      ],
      "text/plain": [
       "                 id                                       comment_text  toxic  \\\n",
       "0  0000997932d777bf  Explanation\\nWhy the edits made under my usern...      0   \n",
       "1  000103f0d9cfb60f  D'aww! He matches this background colour I'm s...      0   \n",
       "2  000113f07ec002fd  Hey man, I'm really not trying to edit war. It...      0   \n",
       "3  0001b41b1c6bb37e  \"\\nMore\\nI can't make any real suggestions on ...      0   \n",
       "4  0001d958c54c6e35  You, sir, are my hero. Any chance you remember...      0   \n",
       "\n",
       "   severe_toxic  obscene  threat  insult  identity_hate  \n",
       "0             0        0       0       0              0  \n",
       "1             0        0       0       0              0  \n",
       "2             0        0       0       0              0  \n",
       "3             0        0       0       0              0  \n",
       "4             0        0       0       0              0  "
      ]
     },
     "execution_count": 42,
     "metadata": {},
     "output_type": "execute_result"
    }
   ],
   "source": [
    "train.head()"
   ]
  },
  {
   "cell_type": "code",
   "execution_count": 3,
   "metadata": {},
   "outputs": [],
   "source": [
    "\n",
    "texts = train[\"comment_text\"].fillna(\"DUMMY_VALUE\").values\n",
    "possible_labels = [\"toxic\", \"severe_toxic\", \"obscene\", \"threat\", \"insult\", \"identity_hate\"]\n",
    "labels = train[possible_labels].values"
   ]
  },
  {
   "cell_type": "code",
   "execution_count": 4,
   "metadata": {},
   "outputs": [
    {
     "data": {
      "text/plain": [
       "(159571,)"
      ]
     },
     "execution_count": 4,
     "metadata": {},
     "output_type": "execute_result"
    }
   ],
   "source": [
    "texts.shape"
   ]
  },
  {
   "cell_type": "code",
   "execution_count": 5,
   "metadata": {},
   "outputs": [
    {
     "data": {
      "text/plain": [
       "(159571, 6)"
      ]
     },
     "execution_count": 5,
     "metadata": {},
     "output_type": "execute_result"
    }
   ],
   "source": [
    "labels.shape"
   ]
  },
  {
   "cell_type": "markdown",
   "metadata": {},
   "source": [
    "# Parameters"
   ]
  },
  {
   "cell_type": "code",
   "execution_count": 6,
   "metadata": {},
   "outputs": [],
   "source": [
    "max_length = 100\n",
    "max_words = 20000\n",
    "embedding_dim = 100"
   ]
  },
  {
   "cell_type": "markdown",
   "metadata": {},
   "source": [
    "# Tokenize the data"
   ]
  },
  {
   "cell_type": "code",
   "execution_count": 7,
   "metadata": {},
   "outputs": [
    {
     "name": "stderr",
     "output_type": "stream",
     "text": [
      "Using TensorFlow backend.\n"
     ]
    }
   ],
   "source": [
    "# Import Modules\n",
    "from keras.preprocessing.text import Tokenizer\n",
    "from keras.preprocessing.sequence import pad_sequences\n",
    "import numpy as np\n",
    "import matplotlib.pyplot as plt"
   ]
  },
  {
   "cell_type": "code",
   "execution_count": 8,
   "metadata": {},
   "outputs": [
    {
     "name": "stdout",
     "output_type": "stream",
     "text": [
      "Found 210337 unique tokens.\n"
     ]
    }
   ],
   "source": [
    "tokenizer = Tokenizer(num_words=max_words)\n",
    "tokenizer.fit_on_texts(texts)\n",
    "word_index = tokenizer.word_index\n",
    "print('Found %s unique tokens.' % len(word_index))"
   ]
  },
  {
   "cell_type": "code",
   "execution_count": 9,
   "metadata": {},
   "outputs": [],
   "source": [
    "# From texts to sequences of integers \n",
    "sequences = tokenizer.texts_to_sequences(texts)\n",
    "data = pad_sequences(sequences, maxlen= max_length)\n",
    "labels = np.asarray(labels)"
   ]
  },
  {
   "cell_type": "code",
   "execution_count": 10,
   "metadata": {},
   "outputs": [
    {
     "name": "stdout",
     "output_type": "stream",
     "text": [
      "Shape of data tensor: (159571, 100)\n"
     ]
    }
   ],
   "source": [
    "# Shuffle Data\n",
    "indices = np.arange(len(data))\n",
    "np.random.shuffle(indices)\n",
    "data = data[indices]\n",
    "labels = labels[indices]\n",
    "print('Shape of data tensor:', data.shape)"
   ]
  },
  {
   "cell_type": "code",
   "execution_count": 11,
   "metadata": {},
   "outputs": [],
   "source": [
    "# Split \n",
    "split = int(.8 * len(texts))\n",
    "train_data = data[:split]\n",
    "train_labels = labels[:split]\n",
    "\n",
    "test_data = data[split:]\n",
    "test_labels = labels[split:]"
   ]
  },
  {
   "cell_type": "markdown",
   "metadata": {},
   "source": [
    "# Using Embedding Layer"
   ]
  },
  {
   "cell_type": "code",
   "execution_count": 13,
   "metadata": {},
   "outputs": [],
   "source": [
    "# We Create a model with Embedding Layer\n",
    "from keras import models, layers"
   ]
  },
  {
   "cell_type": "code",
   "execution_count": 14,
   "metadata": {},
   "outputs": [
    {
     "name": "stdout",
     "output_type": "stream",
     "text": [
      "_________________________________________________________________\n",
      "Layer (type)                 Output Shape              Param #   \n",
      "=================================================================\n",
      "embedding_1 (Embedding)      (None, 100, 100)          2000000   \n",
      "_________________________________________________________________\n",
      "flatten_1 (Flatten)          (None, 10000)             0         \n",
      "_________________________________________________________________\n",
      "dense_1 (Dense)              (None, 6)                 60006     \n",
      "=================================================================\n",
      "Total params: 2,060,006\n",
      "Trainable params: 2,060,006\n",
      "Non-trainable params: 0\n",
      "_________________________________________________________________\n"
     ]
    }
   ],
   "source": [
    "model = models.Sequential()\n",
    "model.add(layers.Embedding(max_words, embedding_dim, input_length=max_length))\n",
    "model.add(layers.Flatten())\n",
    "model.add(layers.Dense(len(possible_labels), activation = \"sigmoid\"))\n",
    "model.summary()"
   ]
  },
  {
   "cell_type": "code",
   "execution_count": 15,
   "metadata": {},
   "outputs": [],
   "source": [
    "model.compile(optimizer=\"rmsprop\",\n",
    "              loss = \"binary_crossentropy\",\n",
    "              metrics = [\"accuracy\"])"
   ]
  },
  {
   "cell_type": "code",
   "execution_count": 16,
   "metadata": {},
   "outputs": [
    {
     "name": "stdout",
     "output_type": "stream",
     "text": [
      "Train on 102124 samples, validate on 25532 samples\n",
      "Epoch 1/40\n",
      "102124/102124 [==============================] - 29s 288us/step - loss: 0.0873 - acc: 0.9726 - val_loss: 0.0751 - val_acc: 0.9759\n",
      "Epoch 2/40\n",
      "102124/102124 [==============================] - 29s 282us/step - loss: 0.0662 - acc: 0.9783 - val_loss: 0.0706 - val_acc: 0.9775\n",
      "Epoch 3/40\n",
      "102124/102124 [==============================] - 29s 281us/step - loss: 0.0610 - acc: 0.9797 - val_loss: 0.0714 - val_acc: 0.9776\n",
      "Epoch 4/40\n",
      "102124/102124 [==============================] - 29s 282us/step - loss: 0.0561 - acc: 0.9811 - val_loss: 0.0728 - val_acc: 0.9778\n",
      "Epoch 5/40\n",
      "102124/102124 [==============================] - 32s 309us/step - loss: 0.0505 - acc: 0.9829 - val_loss: 0.0755 - val_acc: 0.9767\n",
      "Epoch 6/40\n",
      "102124/102124 [==============================] - 31s 299us/step - loss: 0.0449 - acc: 0.9847 - val_loss: 0.0731 - val_acc: 0.9775\n",
      "Epoch 7/40\n",
      "102124/102124 [==============================] - 29s 282us/step - loss: 0.0394 - acc: 0.9865 - val_loss: 0.0747 - val_acc: 0.9775\n",
      "Epoch 8/40\n",
      "102124/102124 [==============================] - 29s 282us/step - loss: 0.0342 - acc: 0.9886 - val_loss: 0.0774 - val_acc: 0.9774\n",
      "Epoch 9/40\n",
      "102124/102124 [==============================] - 29s 284us/step - loss: 0.0300 - acc: 0.9901 - val_loss: 0.0799 - val_acc: 0.9763\n",
      "Epoch 10/40\n",
      "102124/102124 [==============================] - 29s 288us/step - loss: 0.0263 - acc: 0.9914 - val_loss: 0.0823 - val_acc: 0.9768\n",
      "Epoch 11/40\n",
      "102124/102124 [==============================] - 33s 322us/step - loss: 0.0233 - acc: 0.9927 - val_loss: 0.0935 - val_acc: 0.9722\n",
      "Epoch 12/40\n",
      "102124/102124 [==============================] - 32s 312us/step - loss: 0.0207 - acc: 0.9934 - val_loss: 0.0929 - val_acc: 0.9761\n",
      "Epoch 13/40\n",
      "102124/102124 [==============================] - 30s 296us/step - loss: 0.0184 - acc: 0.9943 - val_loss: 0.0935 - val_acc: 0.9753\n",
      "Epoch 14/40\n",
      "102124/102124 [==============================] - 30s 293us/step - loss: 0.0168 - acc: 0.9949 - val_loss: 0.1010 - val_acc: 0.9739\n",
      "Epoch 15/40\n",
      "102124/102124 [==============================] - 30s 293us/step - loss: 0.0151 - acc: 0.9955 - val_loss: 0.1025 - val_acc: 0.9755\n",
      "Epoch 16/40\n",
      "102124/102124 [==============================] - 30s 292us/step - loss: 0.0138 - acc: 0.9960 - val_loss: 0.1098 - val_acc: 0.9753\n",
      "Epoch 17/40\n",
      "102124/102124 [==============================] - 30s 295us/step - loss: 0.0124 - acc: 0.9963 - val_loss: 0.1124 - val_acc: 0.9716\n",
      "Epoch 18/40\n",
      "102124/102124 [==============================] - 30s 293us/step - loss: 0.0114 - acc: 0.9967 - val_loss: 0.1151 - val_acc: 0.9750\n",
      "Epoch 19/40\n",
      "102124/102124 [==============================] - 30s 298us/step - loss: 0.0106 - acc: 0.9970 - val_loss: 0.1212 - val_acc: 0.9721\n",
      "Epoch 20/40\n",
      "102124/102124 [==============================] - 35s 344us/step - loss: 0.0098 - acc: 0.9973 - val_loss: 0.1225 - val_acc: 0.9728\n",
      "Epoch 21/40\n",
      "102124/102124 [==============================] - 34s 332us/step - loss: 0.0091 - acc: 0.9974 - val_loss: 0.1290 - val_acc: 0.9747\n",
      "Epoch 22/40\n",
      "102124/102124 [==============================] - 33s 323us/step - loss: 0.0086 - acc: 0.9976 - val_loss: 0.1305 - val_acc: 0.9726\n",
      "Epoch 23/40\n",
      "102124/102124 [==============================] - 32s 313us/step - loss: 0.0081 - acc: 0.9978 - val_loss: 0.1338 - val_acc: 0.9723\n",
      "Epoch 24/40\n",
      "102124/102124 [==============================] - 32s 316us/step - loss: 0.0076 - acc: 0.9980 - val_loss: 0.1376 - val_acc: 0.9730\n",
      "Epoch 25/40\n",
      "102124/102124 [==============================] - 34s 334us/step - loss: 0.0072 - acc: 0.9981 - val_loss: 0.1433 - val_acc: 0.9691\n",
      "Epoch 26/40\n",
      "102124/102124 [==============================] - 34s 335us/step - loss: 0.0068 - acc: 0.9982 - val_loss: 0.1445 - val_acc: 0.9718\n",
      "Epoch 27/40\n",
      "102124/102124 [==============================] - 34s 337us/step - loss: 0.0066 - acc: 0.9983 - val_loss: 0.1517 - val_acc: 0.9696\n",
      "Epoch 28/40\n",
      "102124/102124 [==============================] - 35s 342us/step - loss: 0.0062 - acc: 0.9984 - val_loss: 0.1543 - val_acc: 0.9726\n",
      "Epoch 29/40\n",
      "102124/102124 [==============================] - 35s 342us/step - loss: 0.0059 - acc: 0.9985 - val_loss: 0.1570 - val_acc: 0.9715\n",
      "Epoch 30/40\n",
      "102124/102124 [==============================] - 35s 340us/step - loss: 0.0057 - acc: 0.9985 - val_loss: 0.1609 - val_acc: 0.9688\n",
      "Epoch 31/40\n",
      "102124/102124 [==============================] - 35s 340us/step - loss: 0.0054 - acc: 0.9987 - val_loss: 0.1630 - val_acc: 0.9692\n",
      "Epoch 32/40\n",
      "102124/102124 [==============================] - 35s 340us/step - loss: 0.0053 - acc: 0.9987 - val_loss: 0.1665 - val_acc: 0.9700\n",
      "Epoch 33/40\n",
      "102124/102124 [==============================] - 36s 348us/step - loss: 0.0051 - acc: 0.9987 - val_loss: 0.1701 - val_acc: 0.9704\n",
      "Epoch 34/40\n",
      "102124/102124 [==============================] - 35s 347us/step - loss: 0.0050 - acc: 0.9988 - val_loss: 0.1725 - val_acc: 0.9695\n",
      "Epoch 35/40\n",
      "102124/102124 [==============================] - 35s 347us/step - loss: 0.0048 - acc: 0.9989 - val_loss: 0.2013 - val_acc: 0.9588\n",
      "Epoch 36/40\n",
      "102124/102124 [==============================] - 35s 339us/step - loss: 0.0046 - acc: 0.9989 - val_loss: 0.1789 - val_acc: 0.9717\n",
      "Epoch 37/40\n",
      "102124/102124 [==============================] - 35s 342us/step - loss: 0.0046 - acc: 0.9989 - val_loss: 0.1853 - val_acc: 0.9672\n",
      "Epoch 38/40\n",
      "102124/102124 [==============================] - 36s 349us/step - loss: 0.0044 - acc: 0.9990 - val_loss: 0.1881 - val_acc: 0.9664\n",
      "Epoch 39/40\n",
      "102124/102124 [==============================] - 34s 335us/step - loss: 0.0043 - acc: 0.9990 - val_loss: 0.1902 - val_acc: 0.9679\n",
      "Epoch 40/40\n",
      "102124/102124 [==============================] - 36s 350us/step - loss: 0.0042 - acc: 0.9990 - val_loss: 0.2031 - val_acc: 0.9625\n"
     ]
    }
   ],
   "source": [
    "history = model.fit(train_data, train_labels, epochs = 40, batch_size=128, validation_split=.2)"
   ]
  },
  {
   "cell_type": "code",
   "execution_count": 17,
   "metadata": {},
   "outputs": [
    {
     "data": {
      "image/png": "[encoded data removed]",
      "text/plain": [
       "<Figure size 432x288 with 1 Axes>"
      ]
     },
     "metadata": {
      "needs_background": "light"
     },
     "output_type": "display_data"
    }
   ],
   "source": [
    "plt.plot(history.history[\"acc\"], \"b\", label = \"Train_accuracy\")\n",
    "plt.plot(history.history[\"val_acc\"], \"r\", label = \"Validation_accuracy\")\n",
    "plt.xlabel(\"epochs\")\n",
    "plt.ylabel(\"Accuracy\")\n",
    "plt.title(\"Train vs Validation Accurcy\")\n",
    "plt.legend()\n",
    "plt.show()"
   ]
  },
  {
   "cell_type": "code",
   "execution_count": 18,
   "metadata": {},
   "outputs": [
    {
     "data": {
      "image/png": "[encoded data removed]",
      "text/plain": [
       "<Figure size 432x288 with 1 Axes>"
      ]
     },
     "metadata": {
      "needs_background": "light"
     },
     "output_type": "display_data"
    }
   ],
   "source": [
    "plt.plot(history.history[\"loss\"], \"b\", label = \"Train_loss\")\n",
    "plt.plot(history.history[\"val_loss\"], \"r\", label = \"Validation_loss\")\n",
    "plt.xlabel(\"epochs\")\n",
    "plt.ylabel(\"Loss\")\n",
    "plt.title(\"Train vs Validation Loss\")\n",
    "plt.legend()\n",
    "plt.show()"
   ]
  },
  {
   "cell_type": "code",
   "execution_count": 19,
   "metadata": {},
   "outputs": [
    {
     "name": "stdout",
     "output_type": "stream",
     "text": [
      "31915/31915 [==============================] - 1s 47us/step\n"
     ]
    },
    {
     "data": {
      "text/plain": [
       "[0.19874019904379353, 0.9629693340679966]"
      ]
     },
     "execution_count": 19,
     "metadata": {},
     "output_type": "execute_result"
    }
   ],
   "source": [
    "model.evaluate(test_data, test_labels)"
   ]
  },
  {
   "cell_type": "markdown",
   "metadata": {},
   "source": [
    "# Using Pre-trained Word Embedding"
   ]
  },
  {
   "cell_type": "markdown",
   "metadata": {},
   "source": [
    "### Embedding_index : dictionary { word : vector}"
   ]
  },
  {
   "cell_type": "code",
   "execution_count": 20,
   "metadata": {},
   "outputs": [],
   "source": [
    "dir_glove= '/Users/maevapena-pitra/Documents/Machine_Learning /Kaggle_Toxic'\n",
    "embedding_index={}\n",
    "\n",
    "f = open(os.path.join(dir_glove, \"glove.6B.100d.txt\"), encoding = \"utf8\")\n",
    "for line in f:\n",
    "    values = line.split()\n",
    "    word = values[0]\n",
    "    embedding_index[word] = np.asarray(values[1:], dtype = \"float32\")\n",
    "f.close()"
   ]
  },
  {
   "cell_type": "markdown",
   "metadata": {},
   "source": [
    "### Embedding_matrix of shape (max_words, embedding_dimension)"
   ]
  },
  {
   "cell_type": "code",
   "execution_count": 21,
   "metadata": {},
   "outputs": [],
   "source": [
    "embedding_matrix = np.zeros((max_words,embedding_dim))\n",
    "\n",
    "for word, i in word_index.items():\n",
    "    if i < max_words:\n",
    "        embedding_vector = embedding_index.get(word) \n",
    "        if embedding_vector is not None:\n",
    "            embedding_matrix[i] = embedding_vector"
   ]
  },
  {
   "cell_type": "markdown",
   "metadata": {},
   "source": [
    "### load pre-trained word embeddings into an Embedding layer"
   ]
  },
  {
   "cell_type": "code",
   "execution_count": 22,
   "metadata": {},
   "outputs": [],
   "source": [
    "num_words = min(max_words, len(word_index) + 1)\n",
    "\n",
    "embedding_layer = layers.Embedding(\n",
    "  num_words,\n",
    "  embedding_dim,\n",
    "  weights=[embedding_matrix],\n",
    "  input_length=max_length,\n",
    "  trainable=False\n",
    ")"
   ]
  },
  {
   "cell_type": "markdown",
   "metadata": {},
   "source": [
    "### Creating a Model with a pre-trained Embedding layer"
   ]
  },
  {
   "cell_type": "code",
   "execution_count": 23,
   "metadata": {},
   "outputs": [
    {
     "name": "stdout",
     "output_type": "stream",
     "text": [
      "_________________________________________________________________\n",
      "Layer (type)                 Output Shape              Param #   \n",
      "=================================================================\n",
      "embedding_2 (Embedding)      (None, 100, 100)          2000000   \n",
      "_________________________________________________________________\n",
      "flatten_2 (Flatten)          (None, 10000)             0         \n",
      "_________________________________________________________________\n",
      "dense_2 (Dense)              (None, 6)                 60006     \n",
      "=================================================================\n",
      "Total params: 2,060,006\n",
      "Trainable params: 60,006\n",
      "Non-trainable params: 2,000,000\n",
      "_________________________________________________________________\n"
     ]
    }
   ],
   "source": [
    "model = models.Sequential()\n",
    "model.add(embedding_layer)\n",
    "model.add(layers.Flatten())\n",
    "model.add(layers.Dense(len(possible_labels), activation = \"sigmoid\"))\n",
    "model.summary()"
   ]
  },
  {
   "cell_type": "code",
   "execution_count": 24,
   "metadata": {},
   "outputs": [],
   "source": [
    "model.compile(optimizer=\"rmsprop\",\n",
    "              loss = \"binary_crossentropy\",\n",
    "              metrics = [\"accuracy\"])"
   ]
  },
  {
   "cell_type": "code",
   "execution_count": 25,
   "metadata": {},
   "outputs": [
    {
     "name": "stdout",
     "output_type": "stream",
     "text": [
      "Train on 102124 samples, validate on 25532 samples\n",
      "Epoch 1/40\n",
      "102124/102124 [==============================] - 9s 84us/step - loss: 0.1002 - acc: 0.9696 - val_loss: 0.0956 - val_acc: 0.9690\n",
      "Epoch 2/40\n",
      "102124/102124 [==============================] - 8s 79us/step - loss: 0.0793 - acc: 0.9741 - val_loss: 0.0895 - val_acc: 0.9720\n",
      "Epoch 3/40\n",
      "102124/102124 [==============================] - 8s 80us/step - loss: 0.0718 - acc: 0.9761 - val_loss: 0.0906 - val_acc: 0.9725\n",
      "Epoch 4/40\n",
      "102124/102124 [==============================] - 8s 77us/step - loss: 0.0670 - acc: 0.9773 - val_loss: 0.0924 - val_acc: 0.9726\n",
      "Epoch 5/40\n",
      "102124/102124 [==============================] - 8s 77us/step - loss: 0.0634 - acc: 0.9783 - val_loss: 0.0942 - val_acc: 0.9704\n",
      "Epoch 6/40\n",
      "102124/102124 [==============================] - 8s 78us/step - loss: 0.0609 - acc: 0.9790 - val_loss: 0.0972 - val_acc: 0.9698\n",
      "Epoch 7/40\n",
      "102124/102124 [==============================] - 8s 78us/step - loss: 0.0588 - acc: 0.9797 - val_loss: 0.0956 - val_acc: 0.9718\n",
      "Epoch 8/40\n",
      "102124/102124 [==============================] - 8s 79us/step - loss: 0.0571 - acc: 0.9802 - val_loss: 0.1038 - val_acc: 0.9678\n",
      "Epoch 9/40\n",
      "102124/102124 [==============================] - 8s 79us/step - loss: 0.0556 - acc: 0.9806 - val_loss: 0.0998 - val_acc: 0.9714\n",
      "Epoch 10/40\n",
      "102124/102124 [==============================] - 8s 79us/step - loss: 0.0542 - acc: 0.9811 - val_loss: 0.1024 - val_acc: 0.9719\n",
      "Epoch 11/40\n",
      "102124/102124 [==============================] - 8s 81us/step - loss: 0.0532 - acc: 0.9814 - val_loss: 0.1034 - val_acc: 0.9713\n",
      "Epoch 12/40\n",
      "102124/102124 [==============================] - 8s 81us/step - loss: 0.0521 - acc: 0.9817 - val_loss: 0.1067 - val_acc: 0.9699\n",
      "Epoch 13/40\n",
      "102124/102124 [==============================] - 8s 77us/step - loss: 0.0513 - acc: 0.9821 - val_loss: 0.1069 - val_acc: 0.9704\n",
      "Epoch 14/40\n",
      "102124/102124 [==============================] - 8s 78us/step - loss: 0.0504 - acc: 0.9823 - val_loss: 0.1071 - val_acc: 0.9708\n",
      "Epoch 15/40\n",
      "102124/102124 [==============================] - 8s 78us/step - loss: 0.0497 - acc: 0.9826 - val_loss: 0.1096 - val_acc: 0.9716\n",
      "Epoch 16/40\n",
      "102124/102124 [==============================] - 8s 78us/step - loss: 0.0490 - acc: 0.9829 - val_loss: 0.1100 - val_acc: 0.9710\n",
      "Epoch 17/40\n",
      "102124/102124 [==============================] - 8s 79us/step - loss: 0.0485 - acc: 0.9830 - val_loss: 0.1129 - val_acc: 0.9709\n",
      "Epoch 18/40\n",
      "102124/102124 [==============================] - 8s 79us/step - loss: 0.0480 - acc: 0.9831 - val_loss: 0.1131 - val_acc: 0.9712\n",
      "Epoch 19/40\n",
      "102124/102124 [==============================] - 8s 79us/step - loss: 0.0474 - acc: 0.9832 - val_loss: 0.1141 - val_acc: 0.9704\n",
      "Epoch 20/40\n",
      "102124/102124 [==============================] - 8s 79us/step - loss: 0.0470 - acc: 0.9834 - val_loss: 0.1153 - val_acc: 0.9701\n",
      "Epoch 21/40\n",
      "102124/102124 [==============================] - 8s 79us/step - loss: 0.0464 - acc: 0.9837 - val_loss: 0.1176 - val_acc: 0.9710\n",
      "Epoch 22/40\n",
      "102124/102124 [==============================] - 8s 79us/step - loss: 0.0461 - acc: 0.9838 - val_loss: 0.1191 - val_acc: 0.9700\n",
      "Epoch 23/40\n",
      "102124/102124 [==============================] - 8s 79us/step - loss: 0.0457 - acc: 0.9840 - val_loss: 0.1206 - val_acc: 0.9715\n",
      "Epoch 24/40\n",
      "102124/102124 [==============================] - 8s 79us/step - loss: 0.0453 - acc: 0.9840 - val_loss: 0.1206 - val_acc: 0.9704\n",
      "Epoch 25/40\n",
      "102124/102124 [==============================] - 8s 81us/step - loss: 0.0450 - acc: 0.9842 - val_loss: 0.1235 - val_acc: 0.9686\n",
      "Epoch 26/40\n",
      "102124/102124 [==============================] - 8s 80us/step - loss: 0.0448 - acc: 0.9842 - val_loss: 0.1232 - val_acc: 0.9709\n",
      "Epoch 27/40\n",
      "102124/102124 [==============================] - 8s 79us/step - loss: 0.0444 - acc: 0.9844 - val_loss: 0.1265 - val_acc: 0.9682\n",
      "Epoch 28/40\n",
      "102124/102124 [==============================] - 8s 79us/step - loss: 0.0440 - acc: 0.9845 - val_loss: 0.1291 - val_acc: 0.9668\n",
      "Epoch 29/40\n",
      "102124/102124 [==============================] - 8s 79us/step - loss: 0.0438 - acc: 0.9847 - val_loss: 0.1301 - val_acc: 0.9674\n",
      "Epoch 30/40\n",
      "102124/102124 [==============================] - 8s 79us/step - loss: 0.0436 - acc: 0.9848 - val_loss: 0.1274 - val_acc: 0.9700\n",
      "Epoch 31/40\n",
      "102124/102124 [==============================] - 8s 79us/step - loss: 0.0434 - acc: 0.9847 - val_loss: 0.1287 - val_acc: 0.9702\n",
      "Epoch 32/40\n",
      "102124/102124 [==============================] - 8s 79us/step - loss: 0.0431 - acc: 0.9848 - val_loss: 0.1334 - val_acc: 0.9683\n",
      "Epoch 33/40\n",
      "102124/102124 [==============================] - 8s 79us/step - loss: 0.0429 - acc: 0.9850 - val_loss: 0.1316 - val_acc: 0.9687\n",
      "Epoch 34/40\n",
      "102124/102124 [==============================] - 8s 79us/step - loss: 0.0427 - acc: 0.9850 - val_loss: 0.1328 - val_acc: 0.9707\n",
      "Epoch 35/40\n",
      "102124/102124 [==============================] - 8s 79us/step - loss: 0.0425 - acc: 0.9851 - val_loss: 0.1346 - val_acc: 0.9680\n",
      "Epoch 36/40\n",
      "102124/102124 [==============================] - 8s 81us/step - loss: 0.0423 - acc: 0.9852 - val_loss: 0.1347 - val_acc: 0.9683\n",
      "Epoch 37/40\n",
      "102124/102124 [==============================] - 9s 85us/step - loss: 0.0421 - acc: 0.9853 - val_loss: 0.1360 - val_acc: 0.9678\n",
      "Epoch 38/40\n",
      "102124/102124 [==============================] - 8s 83us/step - loss: 0.0419 - acc: 0.9853 - val_loss: 0.1414 - val_acc: 0.9661\n",
      "Epoch 39/40\n",
      "102124/102124 [==============================] - 8s 81us/step - loss: 0.0417 - acc: 0.9854 - val_loss: 0.1370 - val_acc: 0.9694\n",
      "Epoch 40/40\n",
      "102124/102124 [==============================] - 9s 85us/step - loss: 0.0415 - acc: 0.9855 - val_loss: 0.1373 - val_acc: 0.9688\n"
     ]
    }
   ],
   "source": [
    "history = model.fit(train_data, train_labels, epochs = 40, batch_size=128, validation_split=.2)"
   ]
  },
  {
   "cell_type": "code",
   "execution_count": 26,
   "metadata": {},
   "outputs": [
    {
     "data": {
      "image/png": "[encoded data removed]",
      "text/plain": [
       "<Figure size 432x288 with 1 Axes>"
      ]
     },
     "metadata": {
      "needs_background": "light"
     },
     "output_type": "display_data"
    }
   ],
   "source": [
    "plt.plot(history.history[\"acc\"], \"b\", label = \"Train_accuracy\")\n",
    "plt.plot(history.history[\"val_acc\"], \"r\", label = \"Validation_accuracy\")\n",
    "plt.xlabel(\"epochs\")\n",
    "plt.ylabel(\"Accuracy\")\n",
    "plt.title(\"Train vs Validation Accurcy\")\n",
    "plt.legend()\n",
    "plt.show()"
   ]
  },
  {
   "cell_type": "code",
   "execution_count": 27,
   "metadata": {},
   "outputs": [
    {
     "data": {
      "image/png": "[encoded data removed]",
      "text/plain": [
       "<Figure size 432x288 with 1 Axes>"
      ]
     },
     "metadata": {
      "needs_background": "light"
     },
     "output_type": "display_data"
    }
   ],
   "source": [
    "plt.plot(history.history[\"loss\"], \"b\", label = \"Train_loss\")\n",
    "plt.plot(history.history[\"val_loss\"], \"r\", label = \"Validation_loss\")\n",
    "plt.xlabel(\"epochs\")\n",
    "plt.ylabel(\"Loss\")\n",
    "plt.title(\"Train vs Validation Loss\")\n",
    "plt.legend()\n",
    "plt.show()"
   ]
  },
  {
   "cell_type": "code",
   "execution_count": 28,
   "metadata": {},
   "outputs": [
    {
     "name": "stdout",
     "output_type": "stream",
     "text": [
      "31915/31915 [==============================] - 1s 42us/step\n"
     ]
    },
    {
     "data": {
      "text/plain": [
       "[0.13636468038091384, 0.9693613143507336]"
      ]
     },
     "execution_count": 28,
     "metadata": {},
     "output_type": "execute_result"
    }
   ],
   "source": [
    "model.evaluate(test_data, test_labels)"
   ]
  },
  {
   "cell_type": "markdown",
   "metadata": {},
   "source": [
    "# Using Recurrent Neural Network "
   ]
  },
  {
   "cell_type": "markdown",
   "metadata": {},
   "source": [
    "### Simple RNN with numpy  "
   ]
  },
  {
   "cell_type": "code",
   "execution_count": 29,
   "metadata": {},
   "outputs": [],
   "source": [
    "# Basic Recurrent Layer\n",
    "T = 100\n",
    "D = 10\n",
    "V = 15\n",
    "\n",
    "\n",
    "\n",
    "inputs = np.random.random((T,D))\n",
    "W = np.random.random((V, D))\n",
    "U = np.random.random((V, V))\n",
    "b = np.random.random((V,))\n",
    "    \n",
    "s_t = np.zeros((V,))\n",
    "outputs = []\n",
    "for input in inputs:\n",
    "    output = np.tanh(np.dot(W, input) + np.dot(U, s_t) + b) \n",
    "    outputs.append(output)\n",
    "    s_t = output\n",
    "\n",
    "outputs = np.asarray(outputs)"
   ]
  },
  {
   "cell_type": "code",
   "execution_count": 30,
   "metadata": {},
   "outputs": [
    {
     "data": {
      "text/plain": [
       "(100, 10)"
      ]
     },
     "execution_count": 30,
     "metadata": {},
     "output_type": "execute_result"
    }
   ],
   "source": [
    "inputs.shape"
   ]
  },
  {
   "cell_type": "code",
   "execution_count": 31,
   "metadata": {},
   "outputs": [
    {
     "data": {
      "text/plain": [
       "(15,)"
      ]
     },
     "execution_count": 31,
     "metadata": {},
     "output_type": "execute_result"
    }
   ],
   "source": [
    "output.shape"
   ]
  },
  {
   "cell_type": "markdown",
   "metadata": {},
   "source": [
    "### SimpleRNN on dataset"
   ]
  },
  {
   "cell_type": "code",
   "execution_count": 32,
   "metadata": {},
   "outputs": [
    {
     "name": "stdout",
     "output_type": "stream",
     "text": [
      "_________________________________________________________________\n",
      "Layer (type)                 Output Shape              Param #   \n",
      "=================================================================\n",
      "embedding_2 (Embedding)      (None, 100, 100)          2000000   \n",
      "_________________________________________________________________\n",
      "simple_rnn_1 (SimpleRNN)     (None, 100)               20100     \n",
      "_________________________________________________________________\n",
      "dense_3 (Dense)              (None, 6)                 606       \n",
      "=================================================================\n",
      "Total params: 2,020,706\n",
      "Trainable params: 20,706\n",
      "Non-trainable params: 2,000,000\n",
      "_________________________________________________________________\n"
     ]
    }
   ],
   "source": [
    "model = models.Sequential()\n",
    "model.add(embedding_layer)\n",
    "model.add(layers.SimpleRNN(embedding_dim))\n",
    "model.add(layers.Dense(len(possible_labels), activation = \"sigmoid\"))\n",
    "model.summary()"
   ]
  },
  {
   "cell_type": "code",
   "execution_count": 33,
   "metadata": {},
   "outputs": [],
   "source": [
    "model.compile(optimizer=\"rmsprop\",\n",
    "              loss = \"binary_crossentropy\",\n",
    "              metrics = [\"accuracy\"])"
   ]
  },
  {
   "cell_type": "code",
   "execution_count": 34,
   "metadata": {},
   "outputs": [
    {
     "name": "stdout",
     "output_type": "stream",
     "text": [
      "Train on 102124 samples, validate on 25532 samples\n",
      "Epoch 1/40\n",
      "102124/102124 [==============================] - 71s 692us/step - loss: 0.0964 - acc: 0.9685 - val_loss: 0.0807 - val_acc: 0.9742\n",
      "Epoch 2/40\n",
      "102124/102124 [==============================] - 70s 685us/step - loss: 0.0799 - acc: 0.9731 - val_loss: 0.0803 - val_acc: 0.9733\n",
      "Epoch 3/40\n",
      "102124/102124 [==============================] - 71s 697us/step - loss: 0.0754 - acc: 0.9740 - val_loss: 0.0850 - val_acc: 0.9666\n",
      "Epoch 4/40\n",
      "102124/102124 [==============================] - 72s 703us/step - loss: 0.0730 - acc: 0.9750 - val_loss: 0.0706 - val_acc: 0.9762\n",
      "Epoch 5/40\n",
      "102124/102124 [==============================] - 72s 701us/step - loss: 0.0770 - acc: 0.9734 - val_loss: 0.0780 - val_acc: 0.9739\n",
      "Epoch 6/40\n",
      "102124/102124 [==============================] - 72s 706us/step - loss: 0.0750 - acc: 0.9738 - val_loss: 0.0734 - val_acc: 0.9751\n",
      "Epoch 7/40\n",
      "102124/102124 [==============================] - 72s 707us/step - loss: 0.0730 - acc: 0.9745 - val_loss: 0.0820 - val_acc: 0.9746\n",
      "Epoch 8/40\n",
      "102124/102124 [==============================] - 72s 706us/step - loss: 0.0742 - acc: 0.9744 - val_loss: 0.0833 - val_acc: 0.9720\n",
      "Epoch 9/40\n",
      "102124/102124 [==============================] - 73s 716us/step - loss: 0.0703 - acc: 0.9755 - val_loss: 0.0852 - val_acc: 0.9662\n",
      "Epoch 10/40\n",
      "102124/102124 [==============================] - 73s 715us/step - loss: 0.0660 - acc: 0.9772 - val_loss: 0.0642 - val_acc: 0.9780\n",
      "Epoch 11/40\n",
      "102124/102124 [==============================] - 73s 713us/step - loss: 0.0639 - acc: 0.9780 - val_loss: 0.0654 - val_acc: 0.9777\n",
      "Epoch 12/40\n",
      "102124/102124 [==============================] - 74s 721us/step - loss: 0.0634 - acc: 0.9777 - val_loss: 0.0759 - val_acc: 0.9765\n",
      "Epoch 13/40\n",
      "102124/102124 [==============================] - 73s 719us/step - loss: 0.0637 - acc: 0.9775 - val_loss: 0.0664 - val_acc: 0.9774\n",
      "Epoch 14/40\n",
      "102124/102124 [==============================] - 74s 722us/step - loss: 0.0640 - acc: 0.9777 - val_loss: 0.0733 - val_acc: 0.9761\n",
      "Epoch 15/40\n",
      "102124/102124 [==============================] - 73s 718us/step - loss: 0.0649 - acc: 0.9778 - val_loss: 0.0691 - val_acc: 0.9768\n",
      "Epoch 16/40\n",
      "102124/102124 [==============================] - 73s 718us/step - loss: 0.0625 - acc: 0.9786 - val_loss: 0.0683 - val_acc: 0.9776\n",
      "Epoch 17/40\n",
      "102124/102124 [==============================] - 74s 722us/step - loss: 0.0621 - acc: 0.9782 - val_loss: 0.0641 - val_acc: 0.9782\n",
      "Epoch 18/40\n",
      "102124/102124 [==============================] - 73s 718us/step - loss: 0.0613 - acc: 0.9787 - val_loss: 0.0653 - val_acc: 0.9785\n",
      "Epoch 19/40\n",
      "102124/102124 [==============================] - 74s 722us/step - loss: 0.0660 - acc: 0.9772 - val_loss: 0.0726 - val_acc: 0.9754\n",
      "Epoch 20/40\n",
      "102124/102124 [==============================] - 74s 724us/step - loss: 0.0656 - acc: 0.9772 - val_loss: 0.0752 - val_acc: 0.9759\n",
      "Epoch 21/40\n",
      "102124/102124 [==============================] - 74s 721us/step - loss: 0.0612 - acc: 0.9787 - val_loss: 0.0657 - val_acc: 0.9783\n",
      "Epoch 22/40\n",
      "102124/102124 [==============================] - 74s 724us/step - loss: 0.0605 - acc: 0.9788 - val_loss: 0.0658 - val_acc: 0.9779\n",
      "Epoch 23/40\n",
      "102124/102124 [==============================] - 73s 712us/step - loss: 0.0597 - acc: 0.9791 - val_loss: 0.0677 - val_acc: 0.9758\n",
      "Epoch 24/40\n",
      "102124/102124 [==============================] - 73s 715us/step - loss: 0.0628 - acc: 0.9782 - val_loss: 0.0670 - val_acc: 0.9776\n",
      "Epoch 25/40\n",
      "102124/102124 [==============================] - 72s 707us/step - loss: 0.0609 - acc: 0.9789 - val_loss: 0.0675 - val_acc: 0.9771\n",
      "Epoch 26/40\n",
      "102124/102124 [==============================] - 72s 708us/step - loss: 0.0627 - acc: 0.9778 - val_loss: 0.0677 - val_acc: 0.9746\n",
      "Epoch 27/40\n",
      "102124/102124 [==============================] - 73s 716us/step - loss: 0.0621 - acc: 0.9780 - val_loss: 0.0775 - val_acc: 0.9744\n",
      "Epoch 28/40\n",
      "102124/102124 [==============================] - 74s 723us/step - loss: 0.0646 - acc: 0.9775 - val_loss: 0.0642 - val_acc: 0.9767\n",
      "Epoch 29/40\n",
      "102124/102124 [==============================] - 76s 749us/step - loss: 0.0655 - acc: 0.9763 - val_loss: 0.0658 - val_acc: 0.9772\n",
      "Epoch 30/40\n",
      "102124/102124 [==============================] - 73s 719us/step - loss: 0.0586 - acc: 0.9792 - val_loss: 0.0624 - val_acc: 0.9779\n",
      "Epoch 31/40\n",
      "102124/102124 [==============================] - 194s 2ms/step - loss: 0.0588 - acc: 0.9792 - val_loss: 0.0622 - val_acc: 0.9782\n",
      "Epoch 32/40\n",
      "102124/102124 [==============================] - 70s 690us/step - loss: 0.0592 - acc: 0.9792 - val_loss: 0.0634 - val_acc: 0.9786\n",
      "Epoch 33/40\n",
      "102124/102124 [==============================] - 71s 692us/step - loss: 0.0593 - acc: 0.9792 - val_loss: 0.0665 - val_acc: 0.9782\n",
      "Epoch 34/40\n",
      "102124/102124 [==============================] - 71s 691us/step - loss: 0.0598 - acc: 0.9790 - val_loss: 0.0704 - val_acc: 0.9769\n",
      "Epoch 35/40\n",
      "102124/102124 [==============================] - 72s 701us/step - loss: 0.0577 - acc: 0.9797 - val_loss: 0.0629 - val_acc: 0.9788\n",
      "Epoch 36/40\n",
      "102124/102124 [==============================] - 74s 722us/step - loss: 0.0646 - acc: 0.9780 - val_loss: 0.0692 - val_acc: 0.9759\n",
      "Epoch 37/40\n",
      "102124/102124 [==============================] - 71s 694us/step - loss: 0.0625 - acc: 0.9783 - val_loss: 0.1103 - val_acc: 0.9518\n",
      "Epoch 38/40\n",
      "102124/102124 [==============================] - 71s 698us/step - loss: 0.0602 - acc: 0.9787 - val_loss: 0.0654 - val_acc: 0.9775\n",
      "Epoch 39/40\n",
      "102124/102124 [==============================] - 71s 693us/step - loss: 0.0600 - acc: 0.9790 - val_loss: 0.0728 - val_acc: 0.9714\n",
      "Epoch 40/40\n",
      "102124/102124 [==============================] - 71s 693us/step - loss: 0.0590 - acc: 0.9792 - val_loss: 0.0645 - val_acc: 0.9787\n"
     ]
    }
   ],
   "source": [
    "history = model.fit(train_data, train_labels, epochs = 40, batch_size=128, validation_split=.2)"
   ]
  },
  {
   "cell_type": "code",
   "execution_count": 35,
   "metadata": {},
   "outputs": [
    {
     "name": "stdout",
     "output_type": "stream",
     "text": [
      "31915/31915 [==============================] - 16s 511us/step\n"
     ]
    },
    {
     "data": {
      "text/plain": [
       "[0.06261609678645315, 0.9788761711449304]"
      ]
     },
     "execution_count": 35,
     "metadata": {},
     "output_type": "execute_result"
    }
   ],
   "source": [
    "# Evaluate the model \n",
    "model.evaluate(test_data, test_labels)"
   ]
  },
  {
   "cell_type": "code",
   "execution_count": 40,
   "metadata": {},
   "outputs": [
    {
     "data": {
      "image/png": "[encoded data removed]",
      "text/plain": [
       "<Figure size 432x288 with 1 Axes>"
      ]
     },
     "metadata": {
      "needs_background": "light"
     },
     "output_type": "display_data"
    },
    {
     "data": {
      "image/png": "[encoded data removed]",
      "text/plain": [
       "<Figure size 432x288 with 1 Axes>"
      ]
     },
     "metadata": {
      "needs_background": "light"
     },
     "output_type": "display_data"
    }
   ],
   "source": [
    "# Plots \n",
    "plt.plot(history.history[\"acc\"], \"b\", label = \"Train_accuracy\")\n",
    "plt.plot(history.history[\"val_acc\"], \"r\", label = \"Validation_accuracy\")\n",
    "plt.xlabel(\"epochs\")\n",
    "plt.ylabel(\"Accuracy\")\n",
    "plt.title(\"Train vs Validation Accurcy\")\n",
    "plt.legend()\n",
    "plt.show()\n",
    "\n",
    "plt.plot(history.history[\"loss\"], \"b\", label = \"Train_loss\")\n",
    "plt.plot(history.history[\"val_loss\"], \"r\", label = \"Validation_loss\")\n",
    "plt.xlabel(\"epochs\")\n",
    "plt.ylabel(\"Loss\")\n",
    "plt.title(\"Train vs Validation Loss\")\n",
    "plt.legend()\n",
    "plt.show()"
   ]
  },
  {
   "cell_type": "markdown",
   "metadata": {},
   "source": [
    "### LSTM with Global MaxPool "
   ]
  },
  {
   "cell_type": "code",
   "execution_count": 38,
   "metadata": {},
   "outputs": [
    {
     "name": "stdout",
     "output_type": "stream",
     "text": [
      "_________________________________________________________________\n",
      "Layer (type)                 Output Shape              Param #   \n",
      "=================================================================\n",
      "embedding_2 (Embedding)      (None, 100, 100)          2000000   \n",
      "_________________________________________________________________\n",
      "lstm_2 (LSTM)                (None, 100, 15)           6960      \n",
      "_________________________________________________________________\n",
      "global_max_pooling1d_2 (Glob (None, 15)                0         \n",
      "_________________________________________________________________\n",
      "dense_5 (Dense)              (None, 6)                 96        \n",
      "=================================================================\n",
      "Total params: 2,007,056\n",
      "Trainable params: 7,056\n",
      "Non-trainable params: 2,000,000\n",
      "_________________________________________________________________\n",
      "Train on 102124 samples, validate on 25532 samples\n",
      "Epoch 1/40\n",
      "102124/102124 [==============================] - 120s 1ms/step - loss: 0.1535 - acc: 0.9581 - val_loss: 0.0997 - val_acc: 0.9630\n",
      "Epoch 2/40\n",
      "102124/102124 [==============================] - 119s 1ms/step - loss: 0.0840 - acc: 0.9705 - val_loss: 0.0742 - val_acc: 0.9748\n",
      "Epoch 3/40\n",
      "102124/102124 [==============================] - 125s 1ms/step - loss: 0.0668 - acc: 0.9774 - val_loss: 0.0644 - val_acc: 0.9775\n",
      "Epoch 4/40\n",
      "102124/102124 [==============================] - 127s 1ms/step - loss: 0.0602 - acc: 0.9792 - val_loss: 0.0607 - val_acc: 0.9786\n",
      "Epoch 5/40\n",
      "102124/102124 [==============================] - 127s 1ms/step - loss: 0.0572 - acc: 0.9799 - val_loss: 0.0587 - val_acc: 0.9790\n",
      "Epoch 6/40\n",
      "102124/102124 [==============================] - 127s 1ms/step - loss: 0.0549 - acc: 0.9805 - val_loss: 0.0571 - val_acc: 0.9794\n",
      "Epoch 7/40\n",
      "102124/102124 [==============================] - 127s 1ms/step - loss: 0.0533 - acc: 0.9810 - val_loss: 0.0554 - val_acc: 0.9799\n",
      "Epoch 8/40\n",
      "102124/102124 [==============================] - 127s 1ms/step - loss: 0.0522 - acc: 0.9813 - val_loss: 0.0551 - val_acc: 0.9802\n",
      "Epoch 9/40\n",
      "102124/102124 [==============================] - 127s 1ms/step - loss: 0.0514 - acc: 0.9815 - val_loss: 0.0541 - val_acc: 0.9803\n",
      "Epoch 10/40\n",
      "102124/102124 [==============================] - 127s 1ms/step - loss: 0.0506 - acc: 0.9819 - val_loss: 0.0539 - val_acc: 0.9804\n",
      "Epoch 11/40\n",
      "102124/102124 [==============================] - 127s 1ms/step - loss: 0.0499 - acc: 0.9820 - val_loss: 0.0532 - val_acc: 0.9807\n",
      "Epoch 12/40\n",
      "102124/102124 [==============================] - 130s 1ms/step - loss: 0.0492 - acc: 0.9822 - val_loss: 0.0541 - val_acc: 0.9802\n",
      "Epoch 13/40\n",
      "102124/102124 [==============================] - 127s 1ms/step - loss: 0.0488 - acc: 0.9823 - val_loss: 0.0526 - val_acc: 0.9810\n",
      "Epoch 14/40\n",
      "102124/102124 [==============================] - 127s 1ms/step - loss: 0.0483 - acc: 0.9825 - val_loss: 0.0532 - val_acc: 0.9809\n",
      "Epoch 15/40\n",
      "102124/102124 [==============================] - 130s 1ms/step - loss: 0.0478 - acc: 0.9826 - val_loss: 0.0523 - val_acc: 0.9810\n",
      "Epoch 16/40\n",
      "102124/102124 [==============================] - 128s 1ms/step - loss: 0.0475 - acc: 0.9827 - val_loss: 0.0523 - val_acc: 0.9810\n",
      "Epoch 17/40\n",
      "102124/102124 [==============================] - 129s 1ms/step - loss: 0.0472 - acc: 0.9828 - val_loss: 0.0523 - val_acc: 0.9809\n",
      "Epoch 18/40\n",
      "102124/102124 [==============================] - 129s 1ms/step - loss: 0.0469 - acc: 0.9829 - val_loss: 0.0522 - val_acc: 0.9812\n",
      "Epoch 19/40\n",
      "102124/102124 [==============================] - 128s 1ms/step - loss: 0.0465 - acc: 0.9830 - val_loss: 0.0522 - val_acc: 0.9811\n",
      "Epoch 20/40\n",
      "102124/102124 [==============================] - 127s 1ms/step - loss: 0.0463 - acc: 0.9832 - val_loss: 0.0526 - val_acc: 0.9810\n",
      "Epoch 21/40\n",
      "102124/102124 [==============================] - 129s 1ms/step - loss: 0.0460 - acc: 0.9832 - val_loss: 0.0526 - val_acc: 0.9806\n",
      "Epoch 22/40\n",
      "102124/102124 [==============================] - 127s 1ms/step - loss: 0.0458 - acc: 0.9833 - val_loss: 0.0519 - val_acc: 0.9813\n",
      "Epoch 23/40\n",
      "102124/102124 [==============================] - 127s 1ms/step - loss: 0.0455 - acc: 0.9834 - val_loss: 0.0520 - val_acc: 0.9812\n",
      "Epoch 24/40\n",
      "102124/102124 [==============================] - 128s 1ms/step - loss: 0.0453 - acc: 0.9834 - val_loss: 0.0518 - val_acc: 0.9811\n",
      "Epoch 25/40\n",
      "102124/102124 [==============================] - 133s 1ms/step - loss: 0.0451 - acc: 0.9833 - val_loss: 0.0519 - val_acc: 0.9812\n",
      "Epoch 26/40\n",
      "102124/102124 [==============================] - 137s 1ms/step - loss: 0.0449 - acc: 0.9834 - val_loss: 0.0520 - val_acc: 0.9811\n",
      "Epoch 27/40\n",
      "102124/102124 [==============================] - 146s 1ms/step - loss: 0.0448 - acc: 0.9835 - val_loss: 0.0519 - val_acc: 0.9812\n",
      "Epoch 28/40\n",
      "102124/102124 [==============================] - 133s 1ms/step - loss: 0.0446 - acc: 0.9835 - val_loss: 0.0538 - val_acc: 0.9801\n",
      "Epoch 29/40\n",
      "102124/102124 [==============================] - 131s 1ms/step - loss: 0.0444 - acc: 0.9836 - val_loss: 0.0533 - val_acc: 0.9809\n",
      "Epoch 30/40\n",
      "102124/102124 [==============================] - 133s 1ms/step - loss: 0.0442 - acc: 0.9836 - val_loss: 0.0523 - val_acc: 0.9810\n",
      "Epoch 31/40\n",
      "102124/102124 [==============================] - 132s 1ms/step - loss: 0.0441 - acc: 0.9837 - val_loss: 0.0522 - val_acc: 0.9811\n",
      "Epoch 32/40\n",
      "102124/102124 [==============================] - 133s 1ms/step - loss: 0.0440 - acc: 0.9838 - val_loss: 0.0531 - val_acc: 0.9804\n",
      "Epoch 33/40\n",
      "102124/102124 [==============================] - 132s 1ms/step - loss: 0.0438 - acc: 0.9837 - val_loss: 0.0524 - val_acc: 0.9811\n",
      "Epoch 34/40\n",
      "102124/102124 [==============================] - 129s 1ms/step - loss: 0.0436 - acc: 0.9838 - val_loss: 0.0521 - val_acc: 0.9809\n",
      "Epoch 35/40\n",
      "102124/102124 [==============================] - 129s 1ms/step - loss: 0.0434 - acc: 0.9839 - val_loss: 0.0526 - val_acc: 0.9810\n",
      "Epoch 36/40\n",
      "102124/102124 [==============================] - 130s 1ms/step - loss: 0.0433 - acc: 0.9839 - val_loss: 0.0528 - val_acc: 0.9811\n",
      "Epoch 37/40\n",
      "102124/102124 [==============================] - 123s 1ms/step - loss: 0.0432 - acc: 0.9840 - val_loss: 0.0525 - val_acc: 0.9810\n",
      "Epoch 38/40\n",
      "102124/102124 [==============================] - 122s 1ms/step - loss: 0.0430 - acc: 0.9840 - val_loss: 0.0525 - val_acc: 0.9810\n",
      "Epoch 39/40\n",
      "102124/102124 [==============================] - 122s 1ms/step - loss: 0.0429 - acc: 0.9840 - val_loss: 0.0529 - val_acc: 0.9807\n",
      "Epoch 40/40\n",
      "102124/102124 [==============================] - 121s 1ms/step - loss: 0.0428 - acc: 0.9841 - val_loss: 0.0524 - val_acc: 0.9810\n"
     ]
    }
   ],
   "source": [
    "# Create the Model\n",
    "output_dim = 15\n",
    "model = models.Sequential()\n",
    "model.add(embedding_layer)\n",
    "model.add(layers.LSTM(output_dim, return_sequences = True))\n",
    "model.add(layers.GlobalMaxPool1D())\n",
    "model.add(layers.Dense(len(possible_labels), activation = \"sigmoid\"))\n",
    "model.summary()\n",
    "\n",
    "model.compile(optimizer=\"rmsprop\",\n",
    "              loss = \"binary_crossentropy\",\n",
    "              metrics = [\"accuracy\"])\n",
    "\n",
    "history = model.fit(train_data, train_labels, epochs = 40, batch_size=128, validation_split=.2)"
   ]
  },
  {
   "cell_type": "code",
   "execution_count": 39,
   "metadata": {},
   "outputs": [
    {
     "name": "stdout",
     "output_type": "stream",
     "text": [
      "31915/31915 [==============================] - 28s 863us/step\n"
     ]
    },
    {
     "data": {
      "text/plain": [
       "[0.05003626134807453, 0.9821087133355897]"
      ]
     },
     "execution_count": 39,
     "metadata": {},
     "output_type": "execute_result"
    }
   ],
   "source": [
    "# Evaluate the model \n",
    "model.evaluate(test_data, test_labels)"
   ]
  },
  {
   "cell_type": "code",
   "execution_count": 41,
   "metadata": {},
   "outputs": [
    {
     "data": {
      "image/png": "[encoded data removed]",
      "text/plain": [
       "<Figure size 432x288 with 1 Axes>"
      ]
     },
     "metadata": {
      "needs_background": "light"
     },
     "output_type": "display_data"
    },
    {
     "data": {
      "image/png": "[encoded data removed]",
      "text/plain": [
       "<Figure size 432x288 with 1 Axes>"
      ]
     },
     "metadata": {
      "needs_background": "light"
     },
     "output_type": "display_data"
    }
   ],
   "source": [
    "# Plots \n",
    "plt.plot(history.history[\"acc\"], \"b\", label = \"Train_accuracy\")\n",
    "plt.plot(history.history[\"val_acc\"], \"r\", label = \"Validation_accuracy\")\n",
    "plt.xlabel(\"epochs\")\n",
    "plt.ylabel(\"Accuracy\")\n",
    "plt.title(\"Train vs Validation Accurcy\")\n",
    "plt.legend()\n",
    "plt.show()\n",
    "\n",
    "plt.plot(history.history[\"loss\"], \"b\", label = \"Train_loss\")\n",
    "plt.plot(history.history[\"val_loss\"], \"r\", label = \"Validation_loss\")\n",
    "plt.xlabel(\"epochs\")\n",
    "plt.ylabel(\"Loss\")\n",
    "plt.title(\"Train vs Validation Loss\")\n",
    "plt.legend()\n",
    "plt.show()"
   ]
  },
  {
   "cell_type": "markdown",
   "metadata": {},
   "source": [
    "### Bidirectional LSTM with GlobalMaxPool"
   ]
  },
  {
   "cell_type": "code",
   "execution_count": 101,
   "metadata": {},
   "outputs": [
    {
     "name": "stdout",
     "output_type": "stream",
     "text": [
      "_________________________________________________________________\n",
      "Layer (type)                 Output Shape              Param #   \n",
      "=================================================================\n",
      "embedding_6 (Embedding)      (None, 100, 100)          2000000   \n",
      "_________________________________________________________________\n",
      "bidirectional_1 (Bidirection (None, 100, 30)           13920     \n",
      "_________________________________________________________________\n",
      "global_max_pooling1d_2 (Glob (None, 30)                0         \n",
      "_________________________________________________________________\n",
      "dense_9 (Dense)              (None, 6)                 186       \n",
      "=================================================================\n",
      "Total params: 2,014,106\n",
      "Trainable params: 2,014,106\n",
      "Non-trainable params: 0\n",
      "_________________________________________________________________\n",
      "Train on 102124 samples, validate on 25532 samples\n",
      "Epoch 1/5\n",
      "102124/102124 [==============================] - 229s 2ms/step - loss: 0.1553 - acc: 0.9604 - val_loss: 0.1396 - val_acc: 0.9639\n",
      "Epoch 2/5\n",
      "102124/102124 [==============================] - 216s 2ms/step - loss: 0.1409 - acc: 0.9631 - val_loss: 0.1401 - val_acc: 0.9639\n",
      "Epoch 3/5\n",
      "102124/102124 [==============================] - 209s 2ms/step - loss: 0.1401 - acc: 0.9631 - val_loss: 0.1404 - val_acc: 0.9639\n",
      "Epoch 4/5\n",
      "102124/102124 [==============================] - 206s 2ms/step - loss: 0.1392 - acc: 0.9631 - val_loss: 0.1419 - val_acc: 0.9639\n",
      "Epoch 5/5\n",
      "102124/102124 [==============================] - 208s 2ms/step - loss: 0.1383 - acc: 0.9631 - val_loss: 0.1418 - val_acc: 0.9639\n"
     ]
    }
   ],
   "source": [
    "output_dim = 15\n",
    "model = models.Sequential()\n",
    "model.add(embedding_layer)\n",
    "model.add(layers.Bidirectional(layers.LSTM(output_dim, return_sequences = True)))\n",
    "model.add(layers.GlobalMaxPool1D())\n",
    "model.add(layers.Dense(len(possible_labels), activation = \"sigmoid\"))\n",
    "model.summary()\n",
    "\n",
    "model.compile(optimizer=\"rmsprop\",\n",
    "              loss = \"binary_crossentropy\",\n",
    "              metrics = [\"accuracy\"])\n",
    "\n",
    "history = model.fit(train_data, train_labels, epochs = 5, batch_size=128, validation_split=.2)"
   ]
  },
  {
   "cell_type": "code",
   "execution_count": 102,
   "metadata": {},
   "outputs": [
    {
     "name": "stdout",
     "output_type": "stream",
     "text": [
      "31915/31915 [==============================] - 24s 758us/step\n"
     ]
    },
    {
     "data": {
      "text/plain": [
       "[0.14259029198464193, 0.963763116307343]"
      ]
     },
     "execution_count": 102,
     "metadata": {},
     "output_type": "execute_result"
    }
   ],
   "source": [
    "# Evaluate the model \n",
    "model.evaluate(test_data, test_labels)"
   ]
  },
  {
   "cell_type": "code",
   "execution_count": 103,
   "metadata": {},
   "outputs": [
    {
     "data": {
      "image/png": "[encoded data removed]",
      "text/plain": [
       "<Figure size 432x288 with 1 Axes>"
      ]
     },
     "metadata": {
      "needs_background": "light"
     },
     "output_type": "display_data"
    },
    {
     "data": {
      "image/png": "[encoded data removed]",
      "text/plain": [
       "<Figure size 432x288 with 1 Axes>"
      ]
     },
     "metadata": {
      "needs_background": "light"
     },
     "output_type": "display_data"
    }
   ],
   "source": [
    "# Plots \n",
    "plt.plot(history.history[\"acc\"], \"b\", label = \"Train_accuracy\")\n",
    "plt.plot(history.history[\"val_acc\"], \"r\", label = \"Validation_accuracy\")\n",
    "plt.xlabel(\"epochs\")\n",
    "plt.ylabel(\"Accuracy\")\n",
    "plt.title(\"Train vs Validation Accurcy\")\n",
    "plt.legend()\n",
    "plt.show()\n",
    "\n",
    "plt.plot(history.history[\"loss\"], \"b\", label = \"Train_loss\")\n",
    "plt.plot(history.history[\"val_loss\"], \"r\", label = \"Validation_loss\")\n",
    "plt.xlabel(\"epochs\")\n",
    "plt.ylabel(\"Loss\")\n",
    "plt.title(\"Train vs Validation Loss\")\n",
    "plt.legend()\n",
    "plt.show()"
   ]
  },
  {
   "cell_type": "code",
   "execution_count": null,
   "metadata": {},
   "outputs": [],
   "source": []
  }
 ],
 "metadata": {
  "kernelspec": {
   "display_name": "Python 3",
   "language": "python",
   "name": "python3"
  },
  "language_info": {
   "codemirror_mode": {
    "name": "ipython",
    "version": 3
   },
   "file_extension": ".py",
   "mimetype": "text/x-python",
   "name": "python",
   "nbconvert_exporter": "python",
   "pygments_lexer": "ipython3",
   "version": "3.6.8"
  }
 },
 "nbformat": 4,
 "nbformat_minor": 2
}
